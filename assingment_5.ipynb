{
 "cells": [
  {
   "cell_type": "code",
   "execution_count": 1,
   "id": "4ef28348",
   "metadata": {},
   "outputs": [
    {
     "name": "stdout",
     "output_type": "stream",
     "text": [
      "Enter the first number: 18\n",
      "Enter the second number: 24\n",
      "The LCM of 18 and 24 is 72\n"
     ]
    }
   ],
   "source": [
    "import math\n",
    "\n",
    "# Function to calculate LCM\n",
    "def lcm(a, b):\n",
    "    return abs(a * b) // math.gcd(a, b)\n",
    "\n",
    "# Input from user\n",
    "num1 = int(input(\"Enter the first number: \"))\n",
    "num2 = int(input(\"Enter the second number: \"))\n",
    "\n",
    "# Calculate and display the LCM\n",
    "result = lcm(num1, num2)\n",
    "print(f\"The LCM of {num1} and {num2} is {result}\")\n"
   ]
  },
  {
   "cell_type": "code",
   "execution_count": 3,
   "id": "fe6ffe42",
   "metadata": {},
   "outputs": [
    {
     "name": "stdout",
     "output_type": "stream",
     "text": [
      "Enter the first number: 34\n",
      "Enter the second number: 23\n",
      "The HCF of 34 and 23 is 1\n"
     ]
    }
   ],
   "source": [
    "import math\n",
    "\n",
    "# Function to calculate HCF\n",
    "def hcf(a, b):\n",
    "    return math.gcd(a, b)\n",
    "\n",
    "# Input from user\n",
    "num1 = int(input(\"Enter the first number: \"))\n",
    "num2 = int(input(\"Enter the second number: \"))\n",
    "\n",
    "# Calculate and display the HCF\n",
    "result = hcf(num1, num2)\n",
    "print(f\"The HCF of {num1} and {num2} is {result}\")"
   ]
  },
  {
   "cell_type": "code",
   "execution_count": 5,
   "id": "9e0fd26a",
   "metadata": {},
   "outputs": [
    {
     "name": "stdout",
     "output_type": "stream",
     "text": [
      "Enter a decimal number: 34\n",
      "Decimal: 34\n",
      "Binary: 0b100010\n",
      "Octal: 0o42\n",
      "Hexadecimal: 0x22\n"
     ]
    }
   ],
   "source": [
    "# Function to convert decimal to binary, octal, and hexadecimal\n",
    "def convert_decimal(num):\n",
    "    binary = bin(num)    # Converts to binary (starts with '0b')\n",
    "    octal = oct(num)     # Converts to octal (starts with '0o')\n",
    "    hexadecimal = hex(num)  # Converts to hexadecimal (starts with '0x')\n",
    "\n",
    "    return binary, octal, hexadecimal\n",
    "\n",
    "# Input from user\n",
    "decimal_number = int(input(\"Enter a decimal number: \"))\n",
    "\n",
    "# Call the function to convert the number\n",
    "binary, octal, hexadecimal = convert_decimal(decimal_number)\n",
    "\n",
    "# Print the results\n",
    "print(f\"Decimal: {decimal_number}\")\n",
    "print(f\"Binary: {binary}\")\n",
    "print(f\"Octal: {octal}\")\n",
    "print(f\"Hexadecimal: {hexadecimal}\")\n"
   ]
  },
  {
   "cell_type": "code",
   "execution_count": 6,
   "id": "8de0cdf5",
   "metadata": {},
   "outputs": [
    {
     "name": "stdout",
     "output_type": "stream",
     "text": [
      "Enter a character: a\n",
      "The ASCII value of 'a' is 97\n"
     ]
    }
   ],
   "source": [
    "# Function to find ASCII value of a character\n",
    "def ascii_value(character):\n",
    "    return ord(character)\n",
    "\n",
    "# Input from user\n",
    "char = input(\"Enter a character: \")\n",
    "\n",
    "# Check if the input is a single character\n",
    "if len(char) == 1:\n",
    "    # Find and print the ASCII value\n",
    "    result = ascii_value(char)\n",
    "    print(f\"The ASCII value of '{char}' is {result}\")\n",
    "else:\n",
    "    print(\"Please enter a single character.\")\n"
   ]
  },
  {
   "cell_type": "code",
   "execution_count": 7,
   "id": "a10c5444",
   "metadata": {},
   "outputs": [
    {
     "name": "stdout",
     "output_type": "stream",
     "text": [
      "Select operation:\n",
      "1. Add\n",
      "2. Subtract\n",
      "3. Multiply\n",
      "4. Divide\n",
      "Enter choice (1/2/3/4): 1\n",
      "Enter first number: 34\n",
      "Enter second number: 45\n",
      "34.0 + 45.0 = 79.0\n"
     ]
    }
   ],
   "source": [
    "# Function to perform addition\n",
    "def add(x, y):\n",
    "    return x + y\n",
    "\n",
    "# Function to perform subtraction\n",
    "def subtract(x, y):\n",
    "    return x - y\n",
    "\n",
    "# Function to perform multiplication\n",
    "def multiply(x, y):\n",
    "    return x * y\n",
    "\n",
    "# Function to perform division\n",
    "def divide(x, y):\n",
    "    if y == 0:\n",
    "        return \"Error! Division by zero.\"\n",
    "    else:\n",
    "        return x / y\n",
    "\n",
    "# Main function to operate the calculator\n",
    "def calculator():\n",
    "    print(\"Select operation:\")\n",
    "    print(\"1. Add\")\n",
    "    print(\"2. Subtract\")\n",
    "    print(\"3. Multiply\")\n",
    "    print(\"4. Divide\")\n",
    "\n",
    "    # Get the user's choice\n",
    "    choice = input(\"Enter choice (1/2/3/4): \")\n",
    "\n",
    "    # Take input numbers based on the user's choice\n",
    "    num1 = float(input(\"Enter first number: \"))\n",
    "    num2 = float(input(\"Enter second number: \"))\n",
    "\n",
    "    if choice == '1':\n",
    "        print(f\"{num1} + {num2} = {add(num1, num2)}\")\n",
    "    elif choice == '2':\n",
    "        print(f\"{num1} - {num2} = {subtract(num1, num2)}\")\n",
    "    elif choice == '3':\n",
    "        print(f\"{num1} * {num2} = {multiply(num1, num2)}\")\n",
    "    elif choice == '4':\n",
    "        print(f\"{num1} / {num2} = {divide(num1, num2)}\")\n",
    "    else:\n",
    "        print(\"Invalid Input! Please choose a valid operation.\")\n",
    "\n",
    "# Call the calculator function\n",
    "calculator()\n"
   ]
  },
  {
   "cell_type": "code",
   "execution_count": null,
   "id": "e41b69eb",
   "metadata": {},
   "outputs": [],
   "source": []
  },
  {
   "cell_type": "code",
   "execution_count": null,
   "id": "0486b14e",
   "metadata": {},
   "outputs": [],
   "source": []
  },
  {
   "cell_type": "code",
   "execution_count": null,
   "id": "e0c242a4",
   "metadata": {},
   "outputs": [],
   "source": []
  }
 ],
 "metadata": {
  "kernelspec": {
   "display_name": "Python 3 (ipykernel)",
   "language": "python",
   "name": "python3"
  },
  "language_info": {
   "codemirror_mode": {
    "name": "ipython",
    "version": 3
   },
   "file_extension": ".py",
   "mimetype": "text/x-python",
   "name": "python",
   "nbconvert_exporter": "python",
   "pygments_lexer": "ipython3",
   "version": "3.9.12"
  }
 },
 "nbformat": 4,
 "nbformat_minor": 5
}
