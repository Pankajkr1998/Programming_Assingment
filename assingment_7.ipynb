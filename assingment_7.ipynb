{
 "cells": [
  {
   "cell_type": "code",
   "execution_count": 1,
   "id": "427bb346",
   "metadata": {},
   "outputs": [
    {
     "name": "stdout",
     "output_type": "stream",
     "text": [
      "Enter the elements of the array (space-separated): 3 4 5 6 7 8 9  0\n",
      "Sum of the array using sum() function: 42\n",
      "Sum of the array using loop: 42\n"
     ]
    }
   ],
   "source": [
    "#1.Write a Python Program to find sum of array?\n",
    "\n",
    "# Method 1: Using the built-in sum() function\n",
    "def sum_of_array(arr):\n",
    "    return sum(arr)\n",
    "\n",
    "# Method 2: Using a loop\n",
    "def sum_of_array_loop(arr):\n",
    "    total = 0\n",
    "    for num in arr:\n",
    "        total += num\n",
    "    return total\n",
    "\n",
    "# Input: Array of numbers\n",
    "arr = [int(x) for x in input(\"Enter the elements of the array (space-separated): \").split()]\n",
    "\n",
    "# Using built-in sum() function\n",
    "result_sum = sum_of_array(arr)\n",
    "print(f\"Sum of the array using sum() function: {result_sum}\")\n",
    "\n",
    "# Using loop\n",
    "result_sum_loop = sum_of_array_loop(arr)\n",
    "print(f\"Sum of the array using loop: {result_sum_loop}\")\n",
    "\n",
    "\n",
    "\n",
    "\n"
   ]
  },
  {
   "cell_type": "code",
   "execution_count": null,
   "id": "6649e688",
   "metadata": {},
   "outputs": [],
   "source": []
  },
  {
   "cell_type": "code",
   "execution_count": 2,
   "id": "5539f3bf",
   "metadata": {},
   "outputs": [
    {
     "name": "stdout",
     "output_type": "stream",
     "text": [
      "Enter the elements of the array (space-separated): 3 1 4 5 6  4 3 2 1 11 \n",
      "Largest element in the array using max() function: 11\n",
      "Largest element in the array using loop: 11\n"
     ]
    }
   ],
   "source": [
    "#2. Write a Python Program to find largest element in an array?\n",
    "# Method 1: Using the built-in max() function\n",
    "def largest_element(arr):\n",
    "    return max(arr)\n",
    "\n",
    "# Method 2: Using a loop\n",
    "def largest_element_loop(arr):\n",
    "    largest = arr[0]  # Assume the first element is the largest initially\n",
    "    for num in arr:\n",
    "        if num > largest:\n",
    "            largest = num\n",
    "    return largest\n",
    "\n",
    "# Input: Array of numbers\n",
    "arr = [int(x) for x in input(\"Enter the elements of the array (space-separated): \").split()]\n",
    "\n",
    "# Using built-in max() function\n",
    "result_max = largest_element(arr)\n",
    "print(f\"Largest element in the array using max() function: {result_max}\")\n",
    "\n",
    "# Using loop\n",
    "result_max_loop = largest_element_loop(arr)\n",
    "print(f\"Largest element in the array using loop: {result_max_loop}\")\n"
   ]
  },
  {
   "cell_type": "code",
   "execution_count": null,
   "id": "e6240b4d",
   "metadata": {},
   "outputs": [],
   "source": [
    "#3. Write a Python Program for array rotation?\n",
    "\n",
    "# Function to rotate array to the right by d positions\n",
    "def rotate_right(arr, d):\n",
    "    # Ensure d is within the range of the array length\n",
    "    d = d % len(arr)\n",
    "    # Rotate the array using slicing\n",
    "    return arr[-d:] + arr[:-d]\n",
    "\n",
    "# Function to rotate array to the left by d positions\n",
    "def rotate_left(arr, d):\n",
    "    # Ensure d is within the range of the array length\n",
    "    d = d % len(arr)\n",
    "    # Rotate the array using slicing\n",
    "    return arr[d:] + arr[:d]\n",
    "\n",
    "# Input: Array and number of rotations\n",
    "arr = [int(x) for x in input(\"Enter the elements of the array (space-separated): \").split()]\n",
    "d = int(input(\"Enter the number of positions to rotate the array: \"))\n",
    "\n",
    "# Rotating to the right\n",
    "rotated_right = rotate_right(arr, d)\n",
    "print(f\"Array after rotating to the right by {d} positions: {rotated_right}\")\n",
    "\n",
    "# Rotating to the left\n",
    "rotated_left = rotate_left(arr, d)\n",
    "print(f\"Array after rotating to the left by {d} positions: {rotated_left}\")\n",
    "\n"
   ]
  },
  {
   "cell_type": "code",
   "execution_count": null,
   "id": "70d20185",
   "metadata": {},
   "outputs": [],
   "source": [
    "#4. Write a Python Program to Split the array and add the first part to the end?\n",
    "# Function to split the array and add the first part to the end\n",
    "def split_and_add(arr, split_index):\n",
    "    # Ensure the split_index is within the valid range\n",
    "    split_index = split_index % len(arr)\n",
    "    # Split and rearrange the array\n",
    "    return arr[split_index:] + arr[:split_index]\n",
    "\n",
    "# Input: Array and the split index\n",
    "arr = [int(x) for x in input(\"Enter the elements of the array (space-separated): \").split()]\n",
    "split_index = int(input(\"Enter the index at which to split the array: \"))\n",
    "\n",
    "# Perform the split and rearrange the array\n",
    "result = split_and_add(arr, split_index)\n",
    "print(f\"Array after splitting and adding the first part to the end: {result}\")\n"
   ]
  },
  {
   "cell_type": "code",
   "execution_count": null,
   "id": "dd0b2052",
   "metadata": {},
   "outputs": [],
   "source": [
    "#5. Write a Python Program to check if given array is Monotonic?\n",
    "# Function to check if the array is monotonic\n",
    "def is_monotonic(arr):\n",
    "    # Check if the array is non-decreasing\n",
    "    increasing = all(arr[i] <= arr[i + 1] for i in range(len(arr) - 1))\n",
    "    \n",
    "    # Check if the array is non-increasing\n",
    "    decreasing = all(arr[i] >= arr[i + 1] for i in range(len(arr) - 1))\n",
    "    \n",
    "    # The array is monotonic if it is either non-decreasing or non-increasing\n",
    "    return increasing or decreasing\n",
    "\n",
    "# Input: Array of numbers\n",
    "arr = [int(x) for x in input(\"Enter the elements of the array (space-separated): \").split()]\n",
    "\n",
    "# Check if the array is monotonic\n",
    "if is_monotonic(arr):\n",
    "    print(\"The array is monotonic.\")\n",
    "else:\n",
    "    print(\"The array is not monotonic.\")\n"
   ]
  },
  {
   "cell_type": "code",
   "execution_count": null,
   "id": "5ad7ba83",
   "metadata": {},
   "outputs": [],
   "source": []
  },
  {
   "cell_type": "code",
   "execution_count": null,
   "id": "30c9c307",
   "metadata": {},
   "outputs": [],
   "source": []
  }
 ],
 "metadata": {
  "kernelspec": {
   "display_name": "Python 3 (ipykernel)",
   "language": "python",
   "name": "python3"
  },
  "language_info": {
   "codemirror_mode": {
    "name": "ipython",
    "version": 3
   },
   "file_extension": ".py",
   "mimetype": "text/x-python",
   "name": "python",
   "nbconvert_exporter": "python",
   "pygments_lexer": "ipython3",
   "version": "3.9.12"
  }
 },
 "nbformat": 4,
 "nbformat_minor": 5
}
