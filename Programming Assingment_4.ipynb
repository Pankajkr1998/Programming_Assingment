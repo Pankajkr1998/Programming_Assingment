{
 "cells": [
  {
   "cell_type": "code",
   "execution_count": 1,
   "id": "a4622145",
   "metadata": {},
   "outputs": [
    {
     "name": "stdout",
     "output_type": "stream",
     "text": [
      "enter the number : 5\n",
      "factorial 24\n"
     ]
    }
   ],
   "source": [
    "##### Write a Python Program to Find the Factorial of a Number\n",
    "\n",
    "a=int(input(\"enter the number : \"))\n",
    "fact=1\n",
    "\n",
    "if a<0:\n",
    "    print(\"No factorail for negative number\")\n",
    "elif a==0:\n",
    "    print(\"Factorial  is  zero\")\n",
    "else:\n",
    "    for i in range(1,a):\n",
    "        fact=fact*i\n",
    "       \n",
    "    print(\"factorial\",fact)\n"
   ]
  },
  {
   "cell_type": "code",
   "execution_count": 2,
   "id": "e0055426",
   "metadata": {},
   "outputs": [
    {
     "name": "stdout",
     "output_type": "stream",
     "text": [
      "Enter the value7\n",
      "7 * 1 = 7\n",
      "7 * 2 = 14\n",
      "7 * 3 = 21\n",
      "7 * 4 = 28\n",
      "7 * 5 = 35\n",
      "7 * 6 = 42\n",
      "7 * 7 = 49\n",
      "7 * 8 = 56\n",
      "7 * 9 = 63\n",
      "7 * 10 = 70\n"
     ]
    }
   ],
   "source": [
    "###### Python Program to Display the multiplication Table\n",
    "\n",
    "\n",
    "a= int(input(\"Enter the value\"))\n",
    "for i in range(1,11):\n",
    "    num= (i)\n",
    "    mul=a*num\n",
    "    print(a,\"*\",num,\"=\",mul)\n",
    "\n",
    "\n",
    "\n",
    "\n",
    "\n"
   ]
  },
  {
   "cell_type": "code",
   "execution_count": 8,
   "id": "4bfec2da",
   "metadata": {},
   "outputs": [
    {
     "name": "stdout",
     "output_type": "stream",
     "text": [
      "enter the value 6\n",
      "1 1 2 3 5 8 "
     ]
    }
   ],
   "source": [
    "##### Python Program to Print the Fibonacci sequence\n",
    "\n",
    "\n",
    "\n",
    "n=int(input(\"enter the value \"))\n",
    "a=0\n",
    "b=1\n",
    "sum = 0\n",
    "count = 1\n",
    "\n",
    "while(count <= n):\n",
    "    \n",
    "    count += 1\n",
    "    a = b\n",
    "    b = sum\n",
    "    sum = a + b\n",
    "    print(sum, end = \" \")\n",
    "\n",
    " \n",
    "\n",
    "\n",
    "\n",
    "\n"
   ]
  },
  {
   "cell_type": "code",
   "execution_count": 38,
   "id": "173a8c63",
   "metadata": {},
   "outputs": [
    {
     "name": "stdout",
     "output_type": "stream",
     "text": [
      "Enter a number: 18\n",
      "Number is not armstrong\n"
     ]
    }
   ],
   "source": [
    "### Python Program to Check Armstrong Number \n",
    "\n",
    "n=int(input(\"Enter a number: \"))\n",
    "origin=n\n",
    "sum = 0    \n",
    "while n>0 :\n",
    "    sum=sum+(n%10)*(n%10)      #### code for two digit number \n",
    "    n=n//10\n",
    "if origin==sum:\n",
    "    print(\"Number is Armstrong\")\n",
    "    \n",
    "else:\n",
    "    print(\"Number is not armstrong\")\n",
    "    \n",
    "\n",
    "\n",
    "\n",
    "\n"
   ]
  },
  {
   "cell_type": "code",
   "execution_count": 41,
   "id": "ef85de31",
   "metadata": {},
   "outputs": [
    {
     "name": "stdout",
     "output_type": "stream",
     "text": [
      "Enter lower range: 1000\n",
      "Enter upper range: 10000\n",
      "1634\n",
      "8208\n",
      "9474\n"
     ]
    }
   ],
   "source": [
    "\n",
    "###   Python Program to Find Armstrong Number in an Interval\n",
    "\n",
    "\n",
    "lower = int(input(\"Enter lower range: \"))\n",
    "upper = int(input(\"Enter upper range: \"))\n",
    "\n",
    "for n in range(lower, upper + 1):\n",
    "    order = len(str(n))\n",
    "\n",
    "    sum = 0\n",
    "\n",
    "    temp = n\n",
    "    while temp > 0:\n",
    "        d = temp % 10\n",
    "        sum += d ** order\n",
    "        temp //= 10\n",
    "\n",
    "    if n == sum:\n",
    "        print(n)\n",
    "\n",
    "\n"
   ]
  },
  {
   "cell_type": "code",
   "execution_count": 26,
   "id": "99e7f492",
   "metadata": {},
   "outputs": [
    {
     "name": "stdout",
     "output_type": "stream",
     "text": [
      "Enter a number: 7\n",
      "Sum =  28\n"
     ]
    }
   ],
   "source": [
    "###  Python Program to find sum of natural number\n",
    "n=int(input(\"Enter a number: \"))\n",
    "sum = 0\n",
    "while(n > 0):\n",
    "    sum=sum+n\n",
    "    n=n-1\n",
    "print(\"Sum = \",sum)"
   ]
  }
 ],
 "metadata": {
  "kernelspec": {
   "display_name": "Python 3 (ipykernel)",
   "language": "python",
   "name": "python3"
  },
  "language_info": {
   "codemirror_mode": {
    "name": "ipython",
    "version": 3
   },
   "file_extension": ".py",
   "mimetype": "text/x-python",
   "name": "python",
   "nbconvert_exporter": "python",
   "pygments_lexer": "ipython3",
   "version": "3.9.12"
  }
 },
 "nbformat": 4,
 "nbformat_minor": 5
}
