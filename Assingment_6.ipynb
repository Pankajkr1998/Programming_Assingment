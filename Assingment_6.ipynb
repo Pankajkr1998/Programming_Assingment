{
 "cells": [
  {
   "cell_type": "code",
   "execution_count": 1,
   "id": "36ec4373",
   "metadata": {},
   "outputs": [
    {
     "name": "stdout",
     "output_type": "stream",
     "text": [
      "Enter the number of terms in Fibonacci sequence: 9\n",
      "Fibonacci Sequence:\n",
      "0 1 1 2 3 5 8 13 21 "
     ]
    }
   ],
   "source": [
    "##### Write a Python Program to Display Fibonacci Sequence Using Recursion?\n",
    "\n",
    "# Function to calculate Fibonacci number using recursion\n",
    "def fibonacci(n):\n",
    "    # Base case: return n if it's 0 or 1\n",
    "    if n <= 1:\n",
    "        return n\n",
    "    else:\n",
    "        # Recursive case: sum of the previous two Fibonacci numbers\n",
    "        return fibonacci(n - 1) + fibonacci(n - 2)\n",
    "\n",
    "# Function to display Fibonacci sequence up to n terms\n",
    "def fibonacci_sequence(n):\n",
    "    for i in range(n):\n",
    "        print(fibonacci(i), end=\" \")\n",
    "\n",
    "# Input from user for number of terms\n",
    "num_terms = int(input(\"Enter the number of terms in Fibonacci sequence: \"))\n",
    "\n",
    "# Display Fibonacci sequence\n",
    "print(\"Fibonacci Sequence:\")\n",
    "fibonacci_sequence(num_terms)\n",
    "\n"
   ]
  },
  {
   "cell_type": "code",
   "execution_count": 2,
   "id": "f24c38ee",
   "metadata": {},
   "outputs": [
    {
     "name": "stdout",
     "output_type": "stream",
     "text": [
      "Enter a number to find its factorial: 6\n",
      "The factorial of 6 is 720\n"
     ]
    }
   ],
   "source": [
    "### Write a Python Program to Find Factorial of Number Using Recursion?\n",
    "# Function to find factorial using recursion\n",
    "def factorial(n):\n",
    "    # Base case: factorial of 0 or 1 is 1\n",
    "    if n == 0 or n == 1:\n",
    "        return 1\n",
    "    else:\n",
    "        # Recursive case: n * factorial(n-1)\n",
    "        return n * factorial(n - 1)\n",
    "\n",
    "# Input from user\n",
    "num = int(input(\"Enter a number to find its factorial: \"))\n",
    "\n",
    "# Call the factorial function and display the result\n",
    "result = factorial(num)\n",
    "print(f\"The factorial of {num} is {result}\")\n"
   ]
  },
  {
   "cell_type": "code",
   "execution_count": 3,
   "id": "1566bf3b",
   "metadata": {},
   "outputs": [
    {
     "name": "stdout",
     "output_type": "stream",
     "text": [
      "Enter your weight in kilograms: 76\n",
      "Enter your height in meters: 5.9\n",
      "Your Body Mass Index (BMI) is: 2.18\n",
      "You are underweight.\n"
     ]
    }
   ],
   "source": [
    "##Write a Python Program to calculate your Body Mass Index?\n",
    "# Function to calculate BMI\n",
    "def calculate_bmi(weight, height):\n",
    "    return weight / (height ** 2)\n",
    "\n",
    "# Input from user for weight (kg) and height (m)\n",
    "weight = float(input(\"Enter your weight in kilograms: \"))\n",
    "height = float(input(\"Enter your height in meters: \"))\n",
    "\n",
    "# Call the function to calculate BMI\n",
    "bmi = calculate_bmi(weight, height)\n",
    "\n",
    "# Display the result\n",
    "print(f\"Your Body Mass Index (BMI) is: {bmi:.2f}\")\n",
    "\n",
    "# Optional: BMI category based on the result\n",
    "if bmi < 18.5:\n",
    "    print(\"You are underweight.\")\n",
    "elif 18.5 <= bmi < 24.9:\n",
    "    print(\"You have a normal weight.\")\n",
    "elif 25 <= bmi < 29.9:\n",
    "    print(\"You are overweight.\")\n",
    "else:\n",
    "    print(\"You are obese.\")\n"
   ]
  },
  {
   "cell_type": "code",
   "execution_count": 5,
   "id": "5d5786a2",
   "metadata": {},
   "outputs": [
    {
     "name": "stdout",
     "output_type": "stream",
     "text": [
      "Enter a number to find its natural logarithm: 45\n",
      "The natural logarithm of 45.0 is: 3.8066624897703196\n"
     ]
    }
   ],
   "source": [
    " ##Write a Python Program to calculate the natural logarithm of any number?\n",
    "import math\n",
    "\n",
    "# Function to calculate the natural logarithm of a number\n",
    "def calculate_logarithm(number):\n",
    "    return math.log(number)\n",
    "\n",
    "# Input from user\n",
    "num = float(input(\"Enter a number to find its natural logarithm: \"))\n",
    "\n",
    "# Check if the number is positive (logarithm is defined for positive numbers only)\n",
    "if num > 0:\n",
    "    # Calculate and display the natural logarithm\n",
    "    result = calculate_logarithm(num)\n",
    "    print(f\"The natural logarithm of {num} is: {result}\")\n",
    "else:\n",
    "    print(\"Logarithm is not defined for non-positive numbers. Please enter a positive number.\")\n"
   ]
  },
  {
   "cell_type": "code",
   "execution_count": 6,
   "id": "dd7bbb65",
   "metadata": {},
   "outputs": [
    {
     "name": "stdout",
     "output_type": "stream",
     "text": [
      "Enter a number (n) to calculate the cube sum of the first n natural numbers: 7\n",
      "The cube sum of the first 7 natural numbers is: 784\n"
     ]
    }
   ],
   "source": [
    "###Write a Python Program for cube sum of first n natural numbers?\n",
    "# Function to calculate the cube sum of first n natural numbers\n",
    "def cube_sum(n):\n",
    "    return (n * (n + 1) // 2) ** 2\n",
    "\n",
    "# Input from user\n",
    "n = int(input(\"Enter a number (n) to calculate the cube sum of the first n natural numbers: \"))\n",
    "\n",
    "# Call the function and display the result\n",
    "result = cube_sum(n)\n",
    "print(f\"The cube sum of the first {n} natural numbers is: {result}\")\n"
   ]
  },
  {
   "cell_type": "code",
   "execution_count": null,
   "id": "14777412",
   "metadata": {},
   "outputs": [],
   "source": []
  }
 ],
 "metadata": {
  "kernelspec": {
   "display_name": "Python 3 (ipykernel)",
   "language": "python",
   "name": "python3"
  },
  "language_info": {
   "codemirror_mode": {
    "name": "ipython",
    "version": 3
   },
   "file_extension": ".py",
   "mimetype": "text/x-python",
   "name": "python",
   "nbconvert_exporter": "python",
   "pygments_lexer": "ipython3",
   "version": "3.9.12"
  }
 },
 "nbformat": 4,
 "nbformat_minor": 5
}
