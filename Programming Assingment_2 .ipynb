{
 "cells": [
  {
   "cell_type": "code",
   "execution_count": null,
   "id": "57370fdb",
   "metadata": {},
   "outputs": [],
   "source": [
    "\n"
   ]
  },
  {
   "cell_type": "code",
   "execution_count": 1,
   "id": "be5ae68c",
   "metadata": {},
   "outputs": [
    {
     "name": "stdout",
     "output_type": "stream",
     "text": [
      "Enter the distance in kilometers1\n",
      "1.0 Km = 0.621371 miles\n"
     ]
    }
   ],
   "source": [
    "# Python program to convert kilometers to miles\n",
    "\n",
    "x=float(input(\"Enter the distance in kilometers\"))\n",
    "\n",
    "miles=(x)*float(0.621371)    ### We know that 1Km=0.621371 miles \n",
    "           \n",
    "print(x,\"Km =\",miles,\"miles\")\n",
    "\n",
    "\n",
    "\n"
   ]
  },
  {
   "cell_type": "code",
   "execution_count": 2,
   "id": "af6cb211",
   "metadata": {},
   "outputs": [
    {
     "name": "stdout",
     "output_type": "stream",
     "text": [
      "Enter the temperature in celcuis4\n",
      "4.0 °C= 135.2 Fahrenheit\n"
     ]
    }
   ],
   "source": [
    "##Python program to convert Celsius to Fahrenheit\n",
    "\n",
    "Celsius=float(input(\"Enter the temperature in celcuis\"))\n",
    "conversion_factor= 33.8\n",
    "\n",
    "Fahrenheit= Celsius*conversion_factor      \n",
    "\n",
    "print(Celsius,\"°C=\",Fahrenheit,\"Fahrenheit\")\n"
   ]
  },
  {
   "cell_type": "code",
   "execution_count": 3,
   "id": "ffcd32c9",
   "metadata": {},
   "outputs": [
    {
     "name": "stdout",
     "output_type": "stream",
     "text": [
      "enter the year  2015\n",
      "enter the month 1\n",
      "    January 2015\n",
      "Mo Tu We Th Fr Sa Su\n",
      "          1  2  3  4\n",
      " 5  6  7  8  9 10 11\n",
      "12 13 14 15 16 17 18\n",
      "19 20 21 22 23 24 25\n",
      "26 27 28 29 30 31\n",
      "\n"
     ]
    }
   ],
   "source": [
    "###Python program to display calendar\n",
    "\n",
    "import calendar\n",
    "\n",
    "y = int(input(\"enter the year  \"))\n",
    "m = int(input(\"enter the month \"))\n",
    "print(calendar.month(y, m))\n",
    "\n"
   ]
  },
  {
   "cell_type": "code",
   "execution_count": 37,
   "id": "667a2c80",
   "metadata": {},
   "outputs": [
    {
     "name": "stdout",
     "output_type": "stream",
     "text": [
      "enter the coefficient of x**21\n",
      "enter the coefficient of x5\n",
      "constant term6\n",
      "X1= (-3+0j) X2= (-2+0j)\n"
     ]
    }
   ],
   "source": [
    "###Python program to solve quadratic equation\n",
    "\n",
    "import cmath\n",
    "a=int(input(\"enter the coefficient of x**2\"))\n",
    "b=int(input(\"enter the coefficient of x\"))\n",
    "c=int(input(\"constant term\"))     \n",
    "\n",
    "d = (b**2) - (4*a*c)  ##Descriminant d = b**2-4*a*c\n",
    "\n",
    "\n",
    "x1 = (-b-cmath.sqrt(d))/(2*a)\n",
    "x2 = (-b+cmath.sqrt(d))/(2*a)\n",
    "\n",
    "print(\"X1=\",x1,\"X2=\",x2)     \n",
    "      \n"
   ]
  },
  {
   "cell_type": "code",
   "execution_count": 40,
   "id": "f86ec984",
   "metadata": {},
   "outputs": [
    {
     "name": "stdout",
     "output_type": "stream",
     "text": [
      "enter the first value of x 10\n",
      "enter the second value of y 15\n",
      "After Swapping x= 15 y= 10\n"
     ]
    }
   ],
   "source": [
    "###Python program to swap two variables without temp variable\n",
    "\n",
    "\n",
    "x=int(input(\"enter the first value of x \"))\n",
    "y=int(input(\"enter the second value of y \"))\n",
    "\n",
    "\n",
    "x,y=y,x\n",
    "\n",
    "\n",
    "print(\"After Swapping\",\"x=\",x,\"y=\",y)"
   ]
  },
  {
   "cell_type": "code",
   "execution_count": null,
   "id": "aa4b0907",
   "metadata": {},
   "outputs": [],
   "source": []
  },
  {
   "cell_type": "code",
   "execution_count": null,
   "id": "554f6a2f",
   "metadata": {},
   "outputs": [],
   "source": []
  },
  {
   "cell_type": "code",
   "execution_count": null,
   "id": "020e5520",
   "metadata": {},
   "outputs": [],
   "source": []
  },
  {
   "cell_type": "code",
   "execution_count": null,
   "id": "e7a17dd4",
   "metadata": {},
   "outputs": [],
   "source": []
  },
  {
   "cell_type": "code",
   "execution_count": null,
   "id": "dbbb2f9a",
   "metadata": {},
   "outputs": [],
   "source": []
  }
 ],
 "metadata": {
  "kernelspec": {
   "display_name": "Python 3 (ipykernel)",
   "language": "python",
   "name": "python3"
  },
  "language_info": {
   "codemirror_mode": {
    "name": "ipython",
    "version": 3
   },
   "file_extension": ".py",
   "mimetype": "text/x-python",
   "name": "python",
   "nbconvert_exporter": "python",
   "pygments_lexer": "ipython3",
   "version": "3.9.12"
  }
 },
 "nbformat": 4,
 "nbformat_minor": 5
}
